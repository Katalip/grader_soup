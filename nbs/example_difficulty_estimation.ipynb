{
 "cells": [
  {
   "cell_type": "code",
   "execution_count": 1,
   "metadata": {},
   "outputs": [],
   "source": [
    "import sys\n",
    "sys.path.append('../')\n",
    "import argparse\n",
    "from dataset.get_dataset import getDataset\n",
    "from torch.utils.data import DataLoader\n",
    "from tqdm.notebook import tqdm\n",
    "\n",
    "import matplotlib.pyplot as plt\n",
    "import seaborn as sns\n",
    "import numpy as np\n",
    "import torch\n",
    "\n",
    "class args_struct:\n",
    "    def __init__(self):\n",
    "        self.dataroot = '../../data/DiscRegion/DiscRegion'\n",
    "        self.rater_num = 6\n",
    "        self.img_width = 256\n",
    "        self.img_height = 256\n",
    "        self.dataset = 'RIGA'\n",
    "        self.validate = True\n",
    "        self.standardize = False\n",
    "        self.random_seed = 27\n",
    "args = args_struct()\n",
    "train_set, valid_set, test_set = getDataset(args, validate=args.validate)\n",
    "train_loader = DataLoader(train_set, batch_size=4, shuffle=True, num_workers=4, pin_memory=True)"
   ]
  },
  {
   "cell_type": "code",
   "execution_count": 2,
   "metadata": {},
   "outputs": [],
   "source": [
    "%load_ext autoreload\n",
    "%autoreload 2"
   ]
  },
  {
   "cell_type": "code",
   "execution_count": 3,
   "metadata": {},
   "outputs": [],
   "source": [
    "def get_dice_threshold(output, mask, threshold):\n",
    "    \"\"\"\n",
    "    :param output: output shape per image, float, (0,1)\n",
    "    :param mask: mask shape per image, float, (0,1)\n",
    "    :param threshold: the threshold to binarize output and feature (0,1)\n",
    "    :return: dice of threshold t\n",
    "    \"\"\"\n",
    "    smooth = 1e-6\n",
    "\n",
    "    zero = torch.zeros_like(output)\n",
    "    one = torch.ones_like(output)\n",
    "    output = torch.where(output > threshold, one, zero)\n",
    "    mask = torch.where(mask > threshold, one, zero)\n",
    "    output = output.view(-1)\n",
    "    mask = mask.view(-1)\n",
    "    intersection = (output * mask).sum()\n",
    "    dice = (2. * intersection + smooth) / (output.sum() + mask.sum() + smooth)\n",
    "\n",
    "    return dice\n",
    "def get_soft_dice(outputs, masks):\n",
    "    \"\"\"\n",
    "    :param outputs: B * output shape per image\n",
    "    :param masks: B * mask shape per image\n",
    "    :return: average dice of B items\n",
    "    \"\"\"\n",
    "    dice_list = []\n",
    "    for this_item in range(outputs.size(0)):\n",
    "        output = outputs[this_item]\n",
    "        mask = masks[this_item]\n",
    "        dice_item_thres_list = []\n",
    "        for thres in [0.1, 0.3, 0.5, 0.7, 0.9]:\n",
    "            dice_item_thres = get_dice_threshold(output, mask, thres)\n",
    "            dice_item_thres_list.append(dice_item_thres.data)\n",
    "        dice_item_thres_mean = np.mean(dice_item_thres_list)\n",
    "        dice_list.append(dice_item_thres_mean)\n",
    "\n",
    "    return np.mean(dice_list)"
   ]
  },
  {
   "cell_type": "markdown",
   "metadata": {},
   "source": [
    "#### Get model preds"
   ]
  },
  {
   "cell_type": "code",
   "execution_count": 4,
   "metadata": {},
   "outputs": [],
   "source": [
    "from models.unet_le import UNetLE"
   ]
  },
  {
   "cell_type": "code",
   "execution_count": 5,
   "metadata": {},
   "outputs": [],
   "source": [
    "class args_struct:\n",
    "    def __init__(self):\n",
    "        self.dataroot = '../../data/DiscRegion/DiscRegion'\n",
    "        self.rater_num = 6\n",
    "        self.img_width = 256\n",
    "        self.img_height = 256\n",
    "        self.dataset = 'RIGA'\n",
    "        self.validate = True\n",
    "        self.standardize = True\n",
    "        self.random_seed = 27\n",
    "        self.loss_func = 'bce'\n",
    "        self.batch_size = 1\n",
    "        self.gt_type_train = -1\n",
    "        self.num_worker = 4"
   ]
  },
  {
   "cell_type": "code",
   "execution_count": 6,
   "metadata": {},
   "outputs": [],
   "source": [
    "args = args_struct()\n",
    "\n",
    "args.gt_type_train = -1\n",
    "args.loss_func = 'bce' \n",
    "args.batch_size = 1\n",
    "args.num_worker = 4\n",
    "args.use_mix_label = False\n",
    "args.standardize = True"
   ]
  },
  {
   "cell_type": "code",
   "execution_count": 7,
   "metadata": {},
   "outputs": [],
   "source": [
    "from trainer.train_riga_unet_le import validate_riga_le\n",
    "from loss_func.get_loss import get_loss_func\n",
    "\n",
    "loss_func = get_loss_func(args)"
   ]
  },
  {
   "cell_type": "code",
   "execution_count": 8,
   "metadata": {},
   "outputs": [],
   "source": [
    "import albumentations as A"
   ]
  },
  {
   "cell_type": "code",
   "execution_count": 145,
   "metadata": {},
   "outputs": [],
   "source": [
    "transforms = None\n",
    "\n",
    "transforms_50 = A.Compose([\n",
    "    A.GaussNoise(p=0.5, var_limit=(50, 60)),\n",
    "    A.Blur(p=0.5, blur_limit=21),\n",
    "    A.HueSaturationValue(p=0.5, hue_shift_limit=(50, 60))\n",
    "], p=1)\n",
    "\n",
    "transforms_100 = A.Compose([\n",
    "    A.GaussNoise(p=1, var_limit=(50, 60)),\n",
    "    A.Blur(p=1, blur_limit=21),\n",
    "    A.HueSaturationValue(p=1, hue_shift_limit=(50, 60))\n",
    "], p=1)"
   ]
  },
  {
   "cell_type": "code",
   "execution_count": 146,
   "metadata": {},
   "outputs": [],
   "source": [
    "args = args_struct()\n",
    "train_set, valid_set, test_set = getDataset(args, validate=args.validate, transforms=None)\n",
    "\n",
    "_, _, test_set_50 = getDataset(args, validate=args.validate, transforms=transforms_50)\n",
    "\n",
    "_, _, test_set_100 = getDataset(args, validate=args.validate, transforms=transforms_100)"
   ]
  },
  {
   "cell_type": "code",
   "execution_count": 21,
   "metadata": {},
   "outputs": [],
   "source": [
    "models = {\n",
    "    # 'le': {\n",
    "    #     'path': '/media/kudaibergen/TS512/projects_ts/grader_soup/src/outputs/RIGA_gt_annots_train_majority_vote_UnetLE_bce_pretrain0_validateTrue/bs16_lr5e-05_wd0.0_epoch200/loop0/checkpoints/best_loss.pt'\n",
    "    # },\n",
    "    'our': {\n",
    "        'path': '/media/kudaibergen/TS512/projects_ts/grader_soup/src/outputs/RIGA_gt_annots_train_majority_vote_UnetLE_LE_w0.3_decoder_heads_only_var_5_lbls_bce_pretrain0_validateTrue/bs16_lr5e-05_wd0.0_epoch200/loop0/checkpoints/best_loss.pt'\n",
    "    }} \n",
    "\n",
    "for key, value in models.items():\n",
    "    skip_encoder = False if key == 'le' else True\n",
    "    model = UNetLE(skip_encoder=skip_encoder)\n",
    "    model.load_state_dict(torch.load(value['path'])['model'])\n",
    "    models[key]['model'] = model        \n",
    "\n",
    "cup_idx = 1\n",
    "disc_idx = 0"
   ]
  },
  {
   "cell_type": "code",
   "execution_count": 164,
   "metadata": {},
   "outputs": [],
   "source": [
    "def get_model_outputs(args, model, val_set, loss_function, skip_idx=None):\n",
    "    model = model.cuda()\n",
    "    val_loader = DataLoader(val_set, batch_size=args.batch_size, shuffle=False, num_workers=args.num_worker, pin_memory=True)\n",
    "\n",
    "    model.eval()\n",
    "\n",
    "    outputs_model = []\n",
    "    masks = []\n",
    "    disc_dices = []\n",
    "    cup_dices = []\n",
    "\n",
    "    for step, data in enumerate(val_loader):\n",
    "        with torch.no_grad():\n",
    "            imgs = data['image'].cuda()\n",
    "            mask = data['mask']\n",
    "\n",
    "            outputs = model({'image': imgs})\n",
    "\n",
    "            mask_major_vote = torch.stack(mask, dim=0).sum(dim=0) / args.rater_num\n",
    "            gt_mask = mask_major_vote.cuda()\n",
    "\n",
    "            outputs_sigmoid = []\n",
    "            disc_dices_img = []\n",
    "            cup_dices_img = []\n",
    "            if skip_idx is not None:\n",
    "                outputs = outputs[skip_idx:]\n",
    "\n",
    "            for i, out in enumerate(outputs):\n",
    "                out = torch.nn.functional.interpolate(out, size=mask[0].shape[2:])\n",
    "                out = torch.sigmoid(out)\n",
    "                outputs_sigmoid.append(out)\n",
    "\n",
    "            # for i in range(len(outputs_sigmoid) - 1):\n",
    "            #     val_soft_dice_disc = get_soft_dice(\n",
    "            #         outputs=outputs_sigmoid[i][:, 0, :, :].cpu(),\n",
    "            #         masks=outputs_sigmoid[i+1][:, 0, :, :].cpu()) * imgs.size(0)\n",
    "            #     val_soft_dice_cup = get_soft_dice(\n",
    "            #         outputs=outputs_sigmoid[i][:, 1, :, :].cpu(), \n",
    "            #         masks=outputs_sigmoid[i+1][:, 1, :, :].cpu()) * imgs.size(0)\n",
    "            #     disc_dices_img.append(val_soft_dice_disc)\n",
    "            #     cup_dices_img.append(val_soft_dice_cup)\n",
    "            \n",
    "            temp_disc = []\n",
    "            temp_cup = []\n",
    "            for i in range(len(outputs_sigmoid)):\n",
    "                for j in range(i+1, len(outputs_sigmoid)):        \n",
    "                    val_soft_dice_disc = get_soft_dice(\n",
    "                        outputs=outputs_sigmoid[i][:, 0, :, :].cpu(),\n",
    "                        masks=outputs_sigmoid[j][:, 0, :, :].cpu()) * imgs.size(0)\n",
    "                    val_soft_dice_cup = get_soft_dice(\n",
    "                        outputs=outputs_sigmoid[i][:, 1, :, :].cpu(), \n",
    "                        masks=outputs_sigmoid[j][:, 1, :, :].cpu()) * imgs.size(0)\n",
    "                    temp_disc.append(val_soft_dice_disc)\n",
    "                    temp_cup.append(val_soft_dice_cup)\n",
    "\n",
    "            disc_dices_img.append(temp_disc)\n",
    "            cup_dices_img.append(temp_cup)\n",
    "\n",
    "\n",
    "        disc_dices.append(disc_dices_img)\n",
    "        cup_dices.append(cup_dices_img)\n",
    "    return disc_dices, cup_dices"
   ]
  },
  {
   "cell_type": "code",
   "execution_count": 159,
   "metadata": {},
   "outputs": [],
   "source": [
    "disc_threshold = 0.9\n",
    "cup_threshold = 0.85"
   ]
  },
  {
   "cell_type": "code",
   "execution_count": 165,
   "metadata": {},
   "outputs": [],
   "source": [
    "for key, val in models.items():\n",
    "    skip_idx = None if key == 'le' else None\n",
    "    disc_dices, cup_dices = get_model_outputs(args, val['model'], test_set, loss_func, skip_idx=skip_idx)\n",
    "    models[key]['dices'] = (disc_dices, cup_dices)\n",
    "\n",
    "    disc_dices_50, cup_dices_50 = get_model_outputs(args, val['model'], test_set_50, loss_func, skip_idx=skip_idx)\n",
    "    models[key]['dices_50'] = (disc_dices_50, cup_dices_50)\n",
    "\n",
    "    disc_dices_100, cup_dices_100 = get_model_outputs(args, val['model'], test_set_100, loss_func, skip_idx=skip_idx)\n",
    "    models[key]['dices_100'] = (disc_dices_100, cup_dices_100)"
   ]
  },
  {
   "cell_type": "code",
   "execution_count": 178,
   "metadata": {},
   "outputs": [],
   "source": [
    "# def get_prediction_depths(dice_agreements, dice_th):\n",
    "#     result = []\n",
    "#     for agreements in dice_agreements:\n",
    "#         agreement = 0\n",
    "#         for i, val in enumerate(agreements):\n",
    "#             if val < dice_th:\n",
    "#                 agreement = i + 1\n",
    "#         result.append(agreement)\n",
    "#     return result\n",
    "\n",
    "# def get_prediction_depths(dice_agreements, dice_th):\n",
    "#     result = []\n",
    "#     for agreements in dice_agreements:\n",
    "#         for i, val in enumerate(agreements):\n",
    "#             if val >= dice_th:\n",
    "#                 result.append(1)\n",
    "#             else:\n",
    "#                 result.append(0)\n",
    "#     return result\n",
    "\n",
    "def get_prediction_depths(dice_agreements, dice_th):\n",
    "    result = []\n",
    "    for agreements in dice_agreements:\n",
    "        # print(agreements)\n",
    "        result.append(np.var(agreements))\n",
    "    return result"
   ]
  },
  {
   "cell_type": "code",
   "execution_count": 201,
   "metadata": {},
   "outputs": [],
   "source": [
    "for key, val in models.items():\n",
    "    for dice_postfix in ['', '_50', '_100']:\n",
    "        pd_disc = get_prediction_depths(val[f'dices{dice_postfix}'][0], disc_threshold)\n",
    "        models[key][f'pd_disc{dice_postfix}'] = pd_disc\n",
    "\n",
    "        pd_cup = get_prediction_depths(val[f'dices{dice_postfix}'][1], cup_threshold)\n",
    "        models[key][f'pd_cup{dice_postfix}'] = pd_cup"
   ]
  },
  {
   "cell_type": "code",
   "execution_count": 1,
   "metadata": {},
   "outputs": [
    {
     "ename": "NameError",
     "evalue": "name 'sns' is not defined",
     "output_type": "error",
     "traceback": [
      "\u001b[0;31m---------------------------------------------------------------------------\u001b[0m",
      "\u001b[0;31mNameError\u001b[0m                                 Traceback (most recent call last)",
      "Cell \u001b[0;32mIn[1], line 1\u001b[0m\n\u001b[0;32m----> 1\u001b[0m \u001b[43msns\u001b[49m\u001b[38;5;241m.\u001b[39mkdeplot(models[key][\u001b[38;5;124mf\u001b[39m\u001b[38;5;124m'\u001b[39m\u001b[38;5;124mpd_disc\u001b[39m\u001b[38;5;124m'\u001b[39m], label\u001b[38;5;241m=\u001b[39m\u001b[38;5;124m'\u001b[39m\u001b[38;5;124m0\u001b[39m\u001b[38;5;132;01m% d\u001b[39;00m\u001b[38;5;124mistortion\u001b[39m\u001b[38;5;124m'\u001b[39m)\n\u001b[1;32m      2\u001b[0m sns\u001b[38;5;241m.\u001b[39mkdeplot(models[key][\u001b[38;5;124mf\u001b[39m\u001b[38;5;124m'\u001b[39m\u001b[38;5;124mpd_disc_50\u001b[39m\u001b[38;5;124m'\u001b[39m], label\u001b[38;5;241m=\u001b[39m\u001b[38;5;124m'\u001b[39m\u001b[38;5;124m50\u001b[39m\u001b[38;5;132;01m% d\u001b[39;00m\u001b[38;5;124mistortion\u001b[39m\u001b[38;5;124m'\u001b[39m)\n\u001b[1;32m      3\u001b[0m sns\u001b[38;5;241m.\u001b[39mkdeplot(models[key][\u001b[38;5;124mf\u001b[39m\u001b[38;5;124m'\u001b[39m\u001b[38;5;124mpd_disc_100\u001b[39m\u001b[38;5;124m'\u001b[39m], label\u001b[38;5;241m=\u001b[39m\u001b[38;5;124m'\u001b[39m\u001b[38;5;124m100\u001b[39m\u001b[38;5;132;01m% d\u001b[39;00m\u001b[38;5;124mistortion\u001b[39m\u001b[38;5;124m'\u001b[39m)\n",
      "\u001b[0;31mNameError\u001b[0m: name 'sns' is not defined"
     ]
    }
   ],
   "source": [
    "sns.kdeplot(models[key][f'pd_disc'], label='0% distortion')\n",
    "sns.kdeplot(models[key][f'pd_disc_50'], label='50% distortion')\n",
    "sns.kdeplot(models[key][f'pd_disc_100'], label='100% distortion')\n",
    "plt.xlabel('Agreement Variance')\n",
    "plt.legend()"
   ]
  },
  {
   "cell_type": "code",
   "execution_count": 216,
   "metadata": {},
   "outputs": [
    {
     "data": {
      "text/plain": [
       "<matplotlib.legend.Legend at 0x7f2425211df0>"
      ]
     },
     "execution_count": 216,
     "metadata": {},
     "output_type": "execute_result"
    },
    {
     "data": {
      "image/png": "[encoded data removed]",
      "text/plain": [
       "<Figure size 640x480 with 1 Axes>"
      ]
     },
     "metadata": {},
     "output_type": "display_data"
    }
   ],
   "source": [
    "sns.kdeplot(models[key][f'pd_cup'], label='0% distortion')\n",
    "sns.kdeplot(models[key][f'pd_cup_50'], label='50% distortion')\n",
    "sns.kdeplot(models[key][f'pd_cup_100'], label='100% distortion')\n",
    "plt.xlabel('Agreement Variance')\n",
    "plt.legend()"
   ]
  },
  {
   "cell_type": "code",
   "execution_count": 133,
   "metadata": {},
   "outputs": [],
   "source": [
    "struct = 'cup'"
   ]
  },
  {
   "cell_type": "code",
   "execution_count": 20,
   "metadata": {},
   "outputs": [
    {
     "data": {
      "text/plain": [
       "<BarContainer object of 10 artists>"
      ]
     },
     "execution_count": 20,
     "metadata": {},
     "output_type": "execute_result"
    },
    {
     "data": {
      "image/png": "[encoded data removed]",
      "text/plain": [
       "<Figure size 640x480 with 1 Axes>"
      ]
     },
     "metadata": {},
     "output_type": "display_data"
    }
   ],
   "source": [
    "max_pd = 10\n",
    "key = 'le'\n",
    "\n",
    "x = [i+1 for i in range(max_pd)]\n",
    "counts = [models[key][f'pd_{struct}'].count(value) for value in x]\n",
    "\n",
    "plt.bar(x, counts)"
   ]
  },
  {
   "cell_type": "code",
   "execution_count": null,
   "metadata": {},
   "outputs": [],
   "source": []
  }
 ],
 "metadata": {
  "kernelspec": {
   "display_name": "soup",
   "language": "python",
   "name": "python3"
  },
  "language_info": {
   "codemirror_mode": {
    "name": "ipython",
    "version": 3
   },
   "file_extension": ".py",
   "mimetype": "text/x-python",
   "name": "python",
   "nbconvert_exporter": "python",
   "pygments_lexer": "ipython3",
   "version": "3.8.18"
  }
 },
 "nbformat": 4,
 "nbformat_minor": 2
}
