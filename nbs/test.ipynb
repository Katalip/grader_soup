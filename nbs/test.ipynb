{
 "cells": [
  {
   "cell_type": "code",
   "execution_count": 1,
   "metadata": {},
   "outputs": [],
   "source": [
    "import sys\n",
    "sys.path.append('../')\n",
    "\n",
    "%load_ext autoreload\n",
    "%autoreload 2\n",
    "from dataset.get_dataset import getDataset\n",
    "from torch.utils.data import DataLoader\n",
    "import matplotlib.pyplot as plt\n",
    "import numpy as np\n",
    "import torch\n",
    "import glob"
   ]
  },
  {
   "cell_type": "code",
   "execution_count": 2,
   "metadata": {},
   "outputs": [],
   "source": [
    "class args_struct:\n",
    "    def __init__(self):\n",
    "        self.dataroot = '../../data/DiscRegion/DiscRegion/'\n",
    "        self.rater_num = 6\n",
    "        self.img_width = 256\n",
    "        self.img_height = 256\n",
    "        self.dataset = 'RIGA'\n",
    "        self.validate = True\n",
    "        self.standardize = True\n",
    "        self.random_seed = 27\n",
    "        self.loss_func = 'bce'\n",
    "        self.gt_type_train = -1\n",
    "args = args_struct()\n",
    "train_set, valid_set, test_set = getDataset(args, validate=args.validate)"
   ]
  },
  {
   "cell_type": "code",
   "execution_count": 3,
   "metadata": {},
   "outputs": [],
   "source": [
    "from trainer.train_riga_unet_le import validate_riga_le\n",
    "from loss_func.get_loss import get_loss_func\n",
    "args.gt_type_train = -1\n",
    "args.loss_func = 'bce' \n",
    "args.batch_size = 8\n",
    "args.num_worker = 4\n",
    "args.use_mix_label = False\n",
    "loss_func = get_loss_func(args)\n",
    "from models.unet_le import UNetLE\n",
    "model = UNetLE()"
   ]
  },
  {
   "cell_type": "code",
   "execution_count": 28,
   "metadata": {},
   "outputs": [],
   "source": [
    "def do_swa(checkpoint):\n",
    "\tskip = ['relative_position_index', 'num_batches_tracked', 'decoder']\n",
    "\n",
    "\tK = len(checkpoint)\n",
    "\tswa = None\n",
    "\t\n",
    "\tfor k in range(K):\n",
    "\t\tstate_dict = torch.load(checkpoint[k], map_location=lambda storage, loc: storage)['model']\n",
    "\t\tif swa is None:\n",
    "\t\t\tswa = state_dict\n",
    "\t\telse:\n",
    "\t\t\tfor k, v in state_dict.items():\n",
    "\t\t\t\t# print(k)\n",
    "\t\t\t\tif any(s in k for s in skip): continue\n",
    "\t\t\t\tswa[k] += v\n",
    "\t\n",
    "\tfor k, v in swa.items():\n",
    "\t\tif any(s in k for s in skip): continue\n",
    "\t\tswa[k] /= K\n",
    "\t\n",
    "\treturn swa"
   ]
  },
  {
   "cell_type": "code",
   "execution_count": 33,
   "metadata": {},
   "outputs": [
    {
     "data": {
      "text/plain": [
       "<All keys matched successfully>"
      ]
     },
     "execution_count": 33,
     "metadata": {},
     "output_type": "execute_result"
    }
   ],
   "source": [
    "path = '/media/kudaibergen/TS512/projects_ts/grader_soup/src/outputs/RIGA_gt_annots_train_majority_vote_UnetLE_bce_pretrain0_validateTrue/bs16_lr5e-05_wd0.0_epoch200/loop1/checkpoints/best_loss.pt'\n",
    "model.load_state_dict(torch.load(path)['model'])"
   ]
  },
  {
   "cell_type": "code",
   "execution_count": 23,
   "metadata": {},
   "outputs": [],
   "source": [
    "checkpoints = ['/media/kudaibergen/TS512/projects_ts/grader_soup/src/outputs/RIGA_gt_annots_train_majority_vote_UnetLE_bce_pretrain0_validateTrue/bs16_lr5e-05_wd0.0_epoch200/loop1/checkpoints/best_loss.pt',\n",
    "               '/media/kudaibergen/TS512/projects_ts/grader_soup/src/outputs/RIGA_gt_annots_train_majority_vote_UnetLE_bce_pretrain0_validateTrue/bs16_lr5e-05_wd0.0_epoch200/loop0/checkpoints/best_loss.pt']"
   ]
  },
  {
   "cell_type": "code",
   "execution_count": 29,
   "metadata": {},
   "outputs": [],
   "source": [
    "swa_weights = do_swa(checkpoints)"
   ]
  },
  {
   "cell_type": "code",
   "execution_count": 30,
   "metadata": {},
   "outputs": [
    {
     "data": {
      "text/plain": [
       "<All keys matched successfully>"
      ]
     },
     "execution_count": 30,
     "metadata": {},
     "output_type": "execute_result"
    }
   ],
   "source": [
    "model.load_state_dict(swa_weights)"
   ]
  },
  {
   "cell_type": "code",
   "execution_count": 34,
   "metadata": {},
   "outputs": [
    {
     "name": "stderr",
     "output_type": "stream",
     "text": [
      "  0%|          | 0/17 [00:00<?, ?it/s]"
     ]
    },
    {
     "name": "stderr",
     "output_type": "stream",
     "text": [
      "100%|██████████| 17/17 [00:03<00:00,  5.19it/s]\n"
     ]
    },
    {
     "data": {
      "text/plain": [
       "(0.08715231677244177, 0.9769911438454199, 0.8957165434160306)"
      ]
     },
     "execution_count": 34,
     "metadata": {},
     "output_type": "execute_result"
    }
   ],
   "source": [
    "validate_riga_le(args, model, valid_set, loss_func, skip_idx=6)"
   ]
  }
 ],
 "metadata": {
  "kernelspec": {
   "display_name": "soup",
   "language": "python",
   "name": "python3"
  },
  "language_info": {
   "codemirror_mode": {
    "name": "ipython",
    "version": 3
   },
   "file_extension": ".py",
   "mimetype": "text/x-python",
   "name": "python",
   "nbconvert_exporter": "python",
   "pygments_lexer": "ipython3",
   "version": "3.8.18"
  }
 },
 "nbformat": 4,
 "nbformat_minor": 2
}
