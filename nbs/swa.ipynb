{
 "cells": [
  {
   "cell_type": "code",
   "execution_count": 1,
   "metadata": {},
   "outputs": [],
   "source": [
    "import torch\n",
    "import os"
   ]
  },
  {
   "cell_type": "code",
   "execution_count": 15,
   "metadata": {},
   "outputs": [],
   "source": [
    "def do_swa(checkpoint):\n",
    "\tskip = ['relative_position_index', 'num_batches_tracked']\n",
    "\n",
    "\tK = len(checkpoint)\n",
    "\tswa = None\n",
    "\t\n",
    "\tfor k in range(K):\n",
    "\t\tstate_dict = torch.load(checkpoint[k], map_location=lambda storage, loc: storage) # ['model_state_dict']\n",
    "\t\tif swa is None:\n",
    "\t\t\tswa = state_dict\n",
    "\t\telse:\n",
    "\t\t\tfor k, v in state_dict.items():\n",
    "\t\t\t\t# print(k)\n",
    "\t\t\t\tif any(s in k for s in skip): continue\n",
    "\t\t\t\tswa[k] += v\n",
    "\t\n",
    "\tfor k, v in swa.items():\n",
    "\t\tif any(s in k for s in skip): continue\n",
    "\t\tswa[k] /= K\n",
    "\t\n",
    "\treturn swa"
   ]
  },
  {
   "cell_type": "code",
   "execution_count": 25,
   "metadata": {},
   "outputs": [],
   "source": [
    "def do_swa_yolo(checkpoint):\n",
    "\tskip = ['relative_position_index', 'num_batches_tracked']\n",
    "\n",
    "\tK = len(checkpoint)\n",
    "\tswa = None\n",
    "\t\n",
    "\tfor k in range(K):\n",
    "\t\tstate_dict = torch.load(checkpoint[k], map_location=lambda storage, loc: storage)['optimizer']['state'] # ['model_state_dict']\n",
    "\t\tif swa is None:\n",
    "\t\t\tswa = state_dict\n",
    "\t\telse:\n",
    "\t\t\tfor k, v in state_dict.items():\n",
    "\t\t\t\t# print(k)\n",
    "\t\t\t\t#if any(s in k for s in skip): continue\n",
    "\t\t\t\tswa[k]['momentum_buffer'] += v['momentum_buffer']\n",
    "\t\n",
    "\tfor k, v in swa.items():\n",
    "\t\t# if any(s in k for s in skip): continue\n",
    "\t\tswa[k]['momentum_buffer'] /= K\n",
    "\t\n",
    "\treturn swa"
   ]
  },
  {
   "cell_type": "code",
   "execution_count": 45,
   "metadata": {},
   "outputs": [],
   "source": [
    "checkpoints = ['../weights/crnn_combined_after_filtering_and_iqgj_efficientnet/e601_0.0302_crnn_combined_after_filtering_and_iqgj_efficientnet.pth',\n",
    "               '../weights/crnn_combined_after_filtering_and_iqgj_efficientnet/e701_0.0236_crnn_combined_after_filtering_and_iqgj_efficientnet.pth',\n",
    "               '../weights/crnn_combined_after_filtering_and_iqgj_efficientnet/e801_0.0216_crnn_combined_after_filtering_and_iqgj_efficientnet.pth',\n",
    "               '../weights/crnn_combined_after_filtering_and_iqgj_efficientnet/e901_0.0193_crnn_combined_after_filtering_and_iqgj_efficientnet.pth']"
   ]
  },
  {
   "cell_type": "code",
   "execution_count": 29,
   "metadata": {},
   "outputs": [],
   "source": [
    "checkpoints = ['/media/kudaibergen/TS512/projects_ts/teye-sa-debugger-python/models/SA_80cls_codetr_coco_relabeled_no_crowds_from_pretrained_custom_hypers4/epoch70.pt',\n",
    "               '/media/kudaibergen/TS512/projects_ts/teye-sa-debugger-python/models/SA_80cls_codetr_coco_relabeled_no_crowds_from_pretrained_custom_hypers4/epoch80.pt',\n",
    "               '/media/kudaibergen/TS512/projects_ts/teye-sa-debugger-python/models/SA_80cls_codetr_coco_relabeled_no_crowds_from_pretrained_custom_hypers4/epoch90.pt',\n",
    "]"
   ]
  },
  {
   "cell_type": "code",
   "execution_count": 43,
   "metadata": {},
   "outputs": [],
   "source": [
    "ROOT = '../weights/crnn_combined_after_filtering_and_iqgj_efficientnet/'\n",
    "# checkpoints = os.listdir(ROOT)"
   ]
  },
  {
   "cell_type": "code",
   "execution_count": 46,
   "metadata": {},
   "outputs": [
    {
     "ename": "ValueError",
     "evalue": "invalid literal for int() with base 10: './weights/crnn'",
     "output_type": "error",
     "traceback": [
      "\u001b[0;31m---------------------------------------------------------------------------\u001b[0m",
      "\u001b[0;31mValueError\u001b[0m                                Traceback (most recent call last)",
      "Cell \u001b[0;32mIn[46], line 1\u001b[0m\n\u001b[0;32m----> 1\u001b[0m checkpoints \u001b[39m=\u001b[39m \u001b[39msorted\u001b[39;49m(checkpoints, key\u001b[39m=\u001b[39;49m\u001b[39mlambda\u001b[39;49;00m x: \u001b[39mint\u001b[39;49m(x\u001b[39m.\u001b[39;49msplit(\u001b[39m'\u001b[39;49m\u001b[39m_\u001b[39;49m\u001b[39m'\u001b[39;49m)[\u001b[39m0\u001b[39;49m][\u001b[39m1\u001b[39;49m:]))\n",
      "Cell \u001b[0;32mIn[46], line 1\u001b[0m, in \u001b[0;36m<lambda>\u001b[0;34m(x)\u001b[0m\n\u001b[0;32m----> 1\u001b[0m checkpoints \u001b[39m=\u001b[39m \u001b[39msorted\u001b[39m(checkpoints, key\u001b[39m=\u001b[39m\u001b[39mlambda\u001b[39;00m x: \u001b[39mint\u001b[39;49m(x\u001b[39m.\u001b[39;49msplit(\u001b[39m'\u001b[39;49m\u001b[39m_\u001b[39;49m\u001b[39m'\u001b[39;49m)[\u001b[39m0\u001b[39;49m][\u001b[39m1\u001b[39;49m:]))\n",
      "\u001b[0;31mValueError\u001b[0m: invalid literal for int() with base 10: './weights/crnn'"
     ]
    }
   ],
   "source": [
    "checkpoints = sorted(checkpoints, key=lambda x: int(x.split('_')[0][1:]))"
   ]
  },
  {
   "cell_type": "code",
   "execution_count": 5,
   "metadata": {},
   "outputs": [],
   "source": [
    "checkpoints = [ROOT + i for i in checkpoints]"
   ]
  },
  {
   "cell_type": "code",
   "execution_count": 35,
   "metadata": {},
   "outputs": [],
   "source": [
    "swa_start_checkpoint = 240"
   ]
  },
  {
   "cell_type": "code",
   "execution_count": 33,
   "metadata": {},
   "outputs": [
    {
     "data": {
      "text/plain": [
       "298"
      ]
     },
     "execution_count": 33,
     "metadata": {},
     "output_type": "execute_result"
    }
   ],
   "source": [
    "len(checkpoints)"
   ]
  },
  {
   "cell_type": "code",
   "execution_count": 38,
   "metadata": {},
   "outputs": [
    {
     "data": {
      "text/plain": [
       "['../weights/crnn_combined_after_filtering_and_iqgj_efficientnet/e793_0.0254_crnn_combined_after_filtering_and_iqgj_efficientnet.pth',\n",
       " '../weights/crnn_combined_after_filtering_and_iqgj_efficientnet/e794_0.0247_crnn_combined_after_filtering_and_iqgj_efficientnet.pth',\n",
       " '../weights/crnn_combined_after_filtering_and_iqgj_efficientnet/e795_0.0204_crnn_combined_after_filtering_and_iqgj_efficientnet.pth',\n",
       " '../weights/crnn_combined_after_filtering_and_iqgj_efficientnet/e801_0.0216_crnn_combined_after_filtering_and_iqgj_efficientnet.pth',\n",
       " '../weights/crnn_combined_after_filtering_and_iqgj_efficientnet/e802_0.0213_crnn_combined_after_filtering_and_iqgj_efficientnet.pth',\n",
       " '../weights/crnn_combined_after_filtering_and_iqgj_efficientnet/e803_0.0191_crnn_combined_after_filtering_and_iqgj_efficientnet.pth',\n",
       " '../weights/crnn_combined_after_filtering_and_iqgj_efficientnet/e811_0.0235_crnn_combined_after_filtering_and_iqgj_efficientnet.pth',\n",
       " '../weights/crnn_combined_after_filtering_and_iqgj_efficientnet/e812_0.0219_crnn_combined_after_filtering_and_iqgj_efficientnet.pth',\n",
       " '../weights/crnn_combined_after_filtering_and_iqgj_efficientnet/e814_0.0184_crnn_combined_after_filtering_and_iqgj_efficientnet.pth',\n",
       " '../weights/crnn_combined_after_filtering_and_iqgj_efficientnet/e821_0.0218_crnn_combined_after_filtering_and_iqgj_efficientnet.pth',\n",
       " '../weights/crnn_combined_after_filtering_and_iqgj_efficientnet/e825_0.0214_crnn_combined_after_filtering_and_iqgj_efficientnet.pth',\n",
       " '../weights/crnn_combined_after_filtering_and_iqgj_efficientnet/e828_0.0208_crnn_combined_after_filtering_and_iqgj_efficientnet.pth',\n",
       " '../weights/crnn_combined_after_filtering_and_iqgj_efficientnet/e830_0.0201_crnn_combined_after_filtering_and_iqgj_efficientnet.pth',\n",
       " '../weights/crnn_combined_after_filtering_and_iqgj_efficientnet/e831_0.0266_crnn_combined_after_filtering_and_iqgj_efficientnet.pth',\n",
       " '../weights/crnn_combined_after_filtering_and_iqgj_efficientnet/e832_0.0262_crnn_combined_after_filtering_and_iqgj_efficientnet.pth',\n",
       " '../weights/crnn_combined_after_filtering_and_iqgj_efficientnet/e833_0.0236_crnn_combined_after_filtering_and_iqgj_efficientnet.pth',\n",
       " '../weights/crnn_combined_after_filtering_and_iqgj_efficientnet/e836_0.0203_crnn_combined_after_filtering_and_iqgj_efficientnet.pth',\n",
       " '../weights/crnn_combined_after_filtering_and_iqgj_efficientnet/e841_0.0310_crnn_combined_after_filtering_and_iqgj_efficientnet.pth',\n",
       " '../weights/crnn_combined_after_filtering_and_iqgj_efficientnet/e843_0.0208_crnn_combined_after_filtering_and_iqgj_efficientnet.pth',\n",
       " '../weights/crnn_combined_after_filtering_and_iqgj_efficientnet/e851_0.0348_crnn_combined_after_filtering_and_iqgj_efficientnet.pth']"
      ]
     },
     "execution_count": 38,
     "metadata": {},
     "output_type": "execute_result"
    }
   ],
   "source": [
    "checkpoints[swa_start_checkpoint:swa_start_checkpoint+20]"
   ]
  },
  {
   "cell_type": "code",
   "execution_count": 32,
   "metadata": {},
   "outputs": [],
   "source": [
    "for_swa_save = torch.load(checkpoints[0]) #['optimizer']['state'][0]['momentum_buffer']"
   ]
  },
  {
   "cell_type": "code",
   "execution_count": 30,
   "metadata": {},
   "outputs": [],
   "source": [
    "swa_state_dict = do_swa_yolo(checkpoints) #checkpoints[swa_start_checkpoint:swa_start_checkpoint+20])"
   ]
  },
  {
   "cell_type": "code",
   "execution_count": 33,
   "metadata": {},
   "outputs": [],
   "source": [
    "for_swa_save['optimizer']['state'] = swa_state_dict"
   ]
  },
  {
   "cell_type": "code",
   "execution_count": 34,
   "metadata": {},
   "outputs": [],
   "source": [
    "torch.save(for_swa_save, '/media/kudaibergen/TS512/projects_ts/teye-sa-debugger-python/models/swa.pt')"
   ]
  },
  {
   "cell_type": "code",
   "execution_count": null,
   "metadata": {},
   "outputs": [],
   "source": []
  },
  {
   "cell_type": "code",
   "execution_count": 29,
   "metadata": {},
   "outputs": [
    {
     "data": {
      "text/plain": [
       "('../weights/crnn_combined_after_filtering_and_iqgj_efficientnet/e672_0.0217_crnn_combined_after_filtering_and_iqgj_efficientnet.pth',\n",
       " '../weights/crnn_combined_after_filtering_and_iqgj_efficientnet/e973_0.0193_crnn_combined_after_filtering_and_iqgj_efficientnet.pth')"
      ]
     },
     "execution_count": 29,
     "metadata": {},
     "output_type": "execute_result"
    }
   ],
   "source": [
    "checkpoints[swa_start_checkpoint], \\\n",
    "checkpoints[-1]"
   ]
  },
  {
   "cell_type": "code",
   "execution_count": 40,
   "metadata": {},
   "outputs": [],
   "source": [
    "save_file_name = '../weights/crnn_combined_after_filtering_and_iqgj_efficientnet/swa_crnn_combined_after_filtering_and_iqgj_efficientnet.pth'"
   ]
  },
  {
   "cell_type": "code",
   "execution_count": 41,
   "metadata": {},
   "outputs": [],
   "source": [
    "torch.save({'model_state_dict':swa_state_dict}, save_file_name)"
   ]
  },
  {
   "cell_type": "code",
   "execution_count": 24,
   "metadata": {},
   "outputs": [
    {
     "data": {
      "text/plain": [
       "['../weights/crnn_combined_after_filtering_and_iqgj_efficientnet/e927_0.0212_crnn_combined_after_filtering_and_iqgj_efficientnet.pth',\n",
       " '../weights/crnn_combined_after_filtering_and_iqgj_efficientnet/e931_0.0261_crnn_combined_after_filtering_and_iqgj_efficientnet.pth',\n",
       " '../weights/crnn_combined_after_filtering_and_iqgj_efficientnet/e934_0.0251_crnn_combined_after_filtering_and_iqgj_efficientnet.pth',\n",
       " '../weights/crnn_combined_after_filtering_and_iqgj_efficientnet/e936_0.0223_crnn_combined_after_filtering_and_iqgj_efficientnet.pth',\n",
       " '../weights/crnn_combined_after_filtering_and_iqgj_efficientnet/e939_0.0197_crnn_combined_after_filtering_and_iqgj_efficientnet.pth',\n",
       " '../weights/crnn_combined_after_filtering_and_iqgj_efficientnet/e941_0.0306_crnn_combined_after_filtering_and_iqgj_efficientnet.pth',\n",
       " '../weights/crnn_combined_after_filtering_and_iqgj_efficientnet/e942_0.0275_crnn_combined_after_filtering_and_iqgj_efficientnet.pth',\n",
       " '../weights/crnn_combined_after_filtering_and_iqgj_efficientnet/e944_0.0216_crnn_combined_after_filtering_and_iqgj_efficientnet.pth',\n",
       " '../weights/crnn_combined_after_filtering_and_iqgj_efficientnet/e945_0.0210_crnn_combined_after_filtering_and_iqgj_efficientnet.pth',\n",
       " '../weights/crnn_combined_after_filtering_and_iqgj_efficientnet/e951_0.0239_crnn_combined_after_filtering_and_iqgj_efficientnet.pth',\n",
       " '../weights/crnn_combined_after_filtering_and_iqgj_efficientnet/e957_0.0201_crnn_combined_after_filtering_and_iqgj_efficientnet.pth',\n",
       " '../weights/crnn_combined_after_filtering_and_iqgj_efficientnet/e961_0.0314_crnn_combined_after_filtering_and_iqgj_efficientnet.pth',\n",
       " '../weights/crnn_combined_after_filtering_and_iqgj_efficientnet/e962_0.0311_crnn_combined_after_filtering_and_iqgj_efficientnet.pth',\n",
       " '../weights/crnn_combined_after_filtering_and_iqgj_efficientnet/e963_0.0241_crnn_combined_after_filtering_and_iqgj_efficientnet.pth',\n",
       " '../weights/crnn_combined_after_filtering_and_iqgj_efficientnet/e965_0.0205_crnn_combined_after_filtering_and_iqgj_efficientnet.pth',\n",
       " '../weights/crnn_combined_after_filtering_and_iqgj_efficientnet/e971_0.0277_crnn_combined_after_filtering_and_iqgj_efficientnet.pth',\n",
       " '../weights/crnn_combined_after_filtering_and_iqgj_efficientnet/e972_0.0262_crnn_combined_after_filtering_and_iqgj_efficientnet.pth',\n",
       " '../weights/crnn_combined_after_filtering_and_iqgj_efficientnet/e973_0.0193_crnn_combined_after_filtering_and_iqgj_efficientnet.pth']"
      ]
     },
     "execution_count": 24,
     "metadata": {},
     "output_type": "execute_result"
    }
   ],
   "source": [
    "checkpoints[swa_start_checkpoint:]"
   ]
  }
 ],
 "metadata": {
  "kernelspec": {
   "display_name": "crnn",
   "language": "python",
   "name": "python3"
  },
  "language_info": {
   "codemirror_mode": {
    "name": "ipython",
    "version": 3
   },
   "file_extension": ".py",
   "mimetype": "text/x-python",
   "name": "python",
   "nbconvert_exporter": "python",
   "pygments_lexer": "ipython3",
   "version": "3.9.0"
  },
  "orig_nbformat": 4,
  "vscode": {
   "interpreter": {
    "hash": "0bada969ee18ecb7f5e0d37856517e70ae8b6f9a79045194db6bc0900f1b61dc"
   }
  }
 },
 "nbformat": 4,
 "nbformat_minor": 2
}
