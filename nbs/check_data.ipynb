{
 "cells": [
  {
   "cell_type": "code",
   "execution_count": 1,
   "metadata": {},
   "outputs": [],
   "source": [
    "import sys\n",
    "sys.path.append('../')"
   ]
  },
  {
   "cell_type": "code",
   "execution_count": 2,
   "metadata": {},
   "outputs": [],
   "source": [
    "import argparse\n",
    "from dataset.get_dataset import getDataset\n",
    "from torch.utils.data import DataLoader\n",
    "import matplotlib.pyplot as plt\n",
    "import numpy as np\n",
    "import torch"
   ]
  },
  {
   "cell_type": "code",
   "execution_count": 8,
   "metadata": {},
   "outputs": [],
   "source": [
    "class args_struct:\n",
    "    def __init__(self):\n",
    "        self.dataroot = '../DiscRegion/'\n",
    "        self.rater_num = 6\n",
    "        self.img_width = 256\n",
    "        self.img_height = 256\n",
    "        self.dataset = 'RIGA'\n",
    "        self.validate = True\n",
    "        self.standardize = False\n",
    "        self.random_seed = 27"
   ]
  },
  {
   "cell_type": "code",
   "execution_count": 9,
   "metadata": {},
   "outputs": [],
   "source": [
    "args = args_struct()\n",
    "train_set, valid_set, test_set = getDataset(args, validate=args.validate)"
   ]
  },
  {
   "cell_type": "code",
   "execution_count": 12,
   "metadata": {},
   "outputs": [],
   "source": [
    "train_loader = DataLoader(train_set, batch_size=4, shuffle=True, num_workers=4, pin_memory=True)"
   ]
  },
  {
   "cell_type": "code",
   "execution_count": 11,
   "metadata": {},
   "outputs": [
    {
     "ename": "TypeError",
     "evalue": "list indices must be integers or slices, not str",
     "output_type": "error",
     "traceback": [
      "\u001b[0;31m---------------------------------------------------------------------------\u001b[0m",
      "\u001b[0;31mTypeError\u001b[0m                                 Traceback (most recent call last)",
      "Cell \u001b[0;32mIn[11], line 4\u001b[0m\n\u001b[1;32m      1\u001b[0m batch_data \u001b[38;5;241m=\u001b[39m \u001b[38;5;28mnext\u001b[39m(\u001b[38;5;28miter\u001b[39m(train_loader))\n\u001b[1;32m      3\u001b[0m plt\u001b[38;5;241m.\u001b[39mfigure(figsize\u001b[38;5;241m=\u001b[39m(\u001b[38;5;241m16\u001b[39m, \u001b[38;5;241m16\u001b[39m))\n\u001b[0;32m----> 4\u001b[0m \u001b[38;5;28;01mfor\u001b[39;00m i,(img,mask) \u001b[38;5;129;01min\u001b[39;00m \u001b[38;5;28menumerate\u001b[39m(\u001b[38;5;28mzip\u001b[39m(\u001b[43mbatch_data\u001b[49m\u001b[43m[\u001b[49m\u001b[38;5;124;43m'\u001b[39;49m\u001b[38;5;124;43mimage\u001b[39;49m\u001b[38;5;124;43m'\u001b[39;49m\u001b[43m]\u001b[49m, batch_data[\u001b[38;5;124m'\u001b[39m\u001b[38;5;124mmask\u001b[39m\u001b[38;5;124m'\u001b[39m])):\n\u001b[1;32m      5\u001b[0m     img \u001b[38;5;241m=\u001b[39m ((img\u001b[38;5;241m.\u001b[39mpermute(\u001b[38;5;241m1\u001b[39m,\u001b[38;5;241m2\u001b[39m,\u001b[38;5;241m0\u001b[39m))\u001b[38;5;241m*\u001b[39m\u001b[38;5;241m255.0\u001b[39m)\u001b[38;5;241m.\u001b[39mnumpy()\u001b[38;5;241m.\u001b[39mastype(np\u001b[38;5;241m.\u001b[39muint8)\n\u001b[1;32m      6\u001b[0m     plt\u001b[38;5;241m.\u001b[39msubplot(\u001b[38;5;241m2\u001b[39m, \u001b[38;5;241m4\u001b[39m, i\u001b[38;5;241m+\u001b[39m\u001b[38;5;241m1\u001b[39m)\n",
      "\u001b[0;31mTypeError\u001b[0m: list indices must be integers or slices, not str"
     ]
    },
    {
     "data": {
      "text/plain": [
       "<Figure size 1600x1600 with 0 Axes>"
      ]
     },
     "metadata": {},
     "output_type": "display_data"
    }
   ],
   "source": [
    "batch_data = next(iter(train_loader))\n",
    "\n",
    "plt.figure(figsize=(16, 16))\n",
    "for i,(img,mask) in enumerate(zip(batch_data['image'], batch_data['mask'])):\n",
    "    img = ((img.permute(1,2,0))*255.0).numpy().astype(np.uint8)\n",
    "    plt.subplot(2, 4, i+1)\n",
    "    plt.imshow(img,vmin=0,vmax=255)\n",
    "    plt.imshow(get_intersection_mask(mask[0], mask[2])[1].squeeze().numpy(), alpha=0.2, cmap='gray')\n",
    "    plt.axis('off')\n",
    "    plt.subplots_adjust(wspace=None, hspace=0.1)\n",
    "\n",
    "plt.tight_layout()"
   ]
  },
  {
   "cell_type": "code",
   "execution_count": 24,
   "metadata": {},
   "outputs": [
    {
     "data": {
      "text/plain": [
       "6"
      ]
     },
     "execution_count": 24,
     "metadata": {},
     "output_type": "execute_result"
    }
   ],
   "source": [
    "len(batch_data['mask'])"
   ]
  },
  {
   "cell_type": "markdown",
   "metadata": {},
   "source": [
    "### Check intersection, unions"
   ]
  },
  {
   "cell_type": "code",
   "execution_count": 53,
   "metadata": {},
   "outputs": [],
   "source": [
    "def get_intersection_mask(mask1, mask2):\n",
    "    intersection = (mask1 * mask2)\n",
    "    return intersection\n",
    "\n",
    "\n",
    "def get_union_mask(mask1, mask2):\n",
    "    intersection = (mask1 * mask2)\n",
    "    total = (mask1 + mask2)\n",
    "    union = total - intersection\n",
    "    return union\n",
    "\n",
    "\n",
    "def get_intersection_mask_flat(mask1, mask2):\n",
    "    original_shape = mask1.shape\n",
    "    mask1_flat = mask1.view(-1)\n",
    "    mask2_flat = mask2.view(-1)\n",
    "\n",
    "    intersection = (mask1_flat * mask2_flat).view(original_shape)\n",
    "    return intersection\n",
    "\n",
    "\n",
    "def get_union_mask_flat(mask1, mask2):\n",
    "    original_shape = mask1.shape\n",
    "    mask1_flat = mask1.view(-1)\n",
    "    mask2_flat = mask2.view(-1)\n",
    "\n",
    "    intersection = (mask1_flat * mask2_flat)\n",
    "    total = (mask1_flat + mask2_flat)\n",
    "\n",
    "    return (total - intersection).view(original_shape)\n"
   ]
  },
  {
   "cell_type": "code",
   "execution_count": 39,
   "metadata": {},
   "outputs": [],
   "source": [
    "mask1 = batch_data['mask'][0]\n",
    "mask2 = batch_data['mask'][1]"
   ]
  },
  {
   "cell_type": "code",
   "execution_count": 54,
   "metadata": {},
   "outputs": [
    {
     "data": {
      "text/plain": [
       "(tensor([0., 1.], dtype=torch.float64), tensor([459422,  64866]))"
      ]
     },
     "execution_count": 54,
     "metadata": {},
     "output_type": "execute_result"
    }
   ],
   "source": [
    "torch.unique(mask1, return_counts=True)"
   ]
  },
  {
   "cell_type": "code",
   "execution_count": 55,
   "metadata": {},
   "outputs": [
    {
     "data": {
      "text/plain": [
       "(tensor([0., 1.], dtype=torch.float64), tensor([460099,  64189]))"
      ]
     },
     "execution_count": 55,
     "metadata": {},
     "output_type": "execute_result"
    }
   ],
   "source": [
    "torch.unique(mask2, return_counts=True)"
   ]
  },
  {
   "cell_type": "code",
   "execution_count": 56,
   "metadata": {},
   "outputs": [
    {
     "data": {
      "text/plain": [
       "(tensor([0., 1.], dtype=torch.float64), tensor([463577,  60711]))"
      ]
     },
     "execution_count": 56,
     "metadata": {},
     "output_type": "execute_result"
    }
   ],
   "source": [
    "torch.unique(get_intersection_mask(mask1, mask2), return_counts=True)"
   ]
  },
  {
   "cell_type": "code",
   "execution_count": 57,
   "metadata": {},
   "outputs": [
    {
     "data": {
      "text/plain": [
       "(tensor([0., 1.], dtype=torch.float64), tensor([463577,  60711]))"
      ]
     },
     "execution_count": 57,
     "metadata": {},
     "output_type": "execute_result"
    }
   ],
   "source": [
    "torch.unique(get_intersection_mask_flat(mask1, mask2), return_counts=True)"
   ]
  },
  {
   "cell_type": "code",
   "execution_count": 58,
   "metadata": {},
   "outputs": [
    {
     "data": {
      "text/plain": [
       "(tensor([0., 1.], dtype=torch.float64), tensor([455944,  68344]))"
      ]
     },
     "execution_count": 58,
     "metadata": {},
     "output_type": "execute_result"
    }
   ],
   "source": [
    "torch.unique(get_union_mask(mask1, mask2), return_counts=True)"
   ]
  },
  {
   "cell_type": "code",
   "execution_count": 59,
   "metadata": {},
   "outputs": [
    {
     "data": {
      "text/plain": [
       "(tensor([0., 1.], dtype=torch.float64), tensor([455944,  68344]))"
      ]
     },
     "execution_count": 59,
     "metadata": {},
     "output_type": "execute_result"
    }
   ],
   "source": [
    "torch.unique(get_union_mask_flat(mask1, mask2), return_counts=True)"
   ]
  },
  {
   "cell_type": "code",
   "execution_count": 30,
   "metadata": {},
   "outputs": [
    {
     "data": {
      "text/plain": [
       "(torch.Size([4, 2, 256, 256]), torch.Size([4, 2, 256, 256]))"
      ]
     },
     "execution_count": 30,
     "metadata": {},
     "output_type": "execute_result"
    }
   ],
   "source": [
    "mask1.shape, \\\n",
    "mask2.shape"
   ]
  },
  {
   "cell_type": "code",
   "execution_count": 31,
   "metadata": {},
   "outputs": [
    {
     "data": {
      "text/plain": [
       "(tensor(0., dtype=torch.float64), tensor(1., dtype=torch.float64))"
      ]
     },
     "execution_count": 31,
     "metadata": {},
     "output_type": "execute_result"
    }
   ],
   "source": [
    "mask1.min(), mask1.max()"
   ]
  },
  {
   "cell_type": "code",
   "execution_count": null,
   "metadata": {},
   "outputs": [],
   "source": [
    "intersection = (output * mask).sum()\n",
    "total = (output + mask).sum()\n",
    "union = total - intersection"
   ]
  },
  {
   "cell_type": "code",
   "execution_count": null,
   "metadata": {},
   "outputs": [],
   "source": []
  },
  {
   "cell_type": "code",
   "execution_count": null,
   "metadata": {},
   "outputs": [],
   "source": []
  },
  {
   "cell_type": "code",
   "execution_count": 6,
   "metadata": {},
   "outputs": [],
   "source": [
    "import cv2\n",
    "import numpy as np"
   ]
  },
  {
   "cell_type": "code",
   "execution_count": 2,
   "metadata": {},
   "outputs": [],
   "source": [
    "img = cv2.imread('/media/kudaibergen/TS512/projects_ts/grader_soup/data/DiscRegion/DiscRegion/Rater1/BinRushed/BinRushed1/image1.tif')"
   ]
  },
  {
   "cell_type": "code",
   "execution_count": 7,
   "metadata": {},
   "outputs": [
    {
     "data": {
      "text/plain": [
       "array([  0, 150, 255], dtype=uint8)"
      ]
     },
     "execution_count": 7,
     "metadata": {},
     "output_type": "execute_result"
    }
   ],
   "source": [
    "np.unique(img)"
   ]
  },
  {
   "cell_type": "markdown",
   "metadata": {},
   "source": [
    "### InterObserverAgreement"
   ]
  },
  {
   "cell_type": "code",
   "execution_count": 33,
   "metadata": {},
   "outputs": [],
   "source": [
    "def get_dice_threshold(output, mask, threshold):\n",
    "    \"\"\"\n",
    "    :param output: output shape per image, float, (0,1)\n",
    "    :param mask: mask shape per image, float, (0,1)\n",
    "    :param threshold: the threshold to binarize output and feature (0,1)\n",
    "    :return: dice of threshold t\n",
    "    \"\"\"\n",
    "    smooth = 1e-6\n",
    "\n",
    "    zero = torch.zeros_like(output)\n",
    "    one = torch.ones_like(output)\n",
    "    output = torch.where(output > threshold, one, zero)\n",
    "    mask = torch.where(mask > threshold, one, zero)\n",
    "    output = output.view(-1)\n",
    "    mask = mask.view(-1)\n",
    "    intersection = (output * mask).sum()\n",
    "    dice = (2. * intersection + smooth) / (output.sum() + mask.sum() + smooth)\n",
    "\n",
    "    return dice"
   ]
  },
  {
   "cell_type": "code",
   "execution_count": 34,
   "metadata": {},
   "outputs": [],
   "source": [
    "def get_soft_dice(outputs, masks):\n",
    "    \"\"\"\n",
    "    :param outputs: B * output shape per image\n",
    "    :param masks: B * mask shape per image\n",
    "    :return: average dice of B items\n",
    "    \"\"\"\n",
    "    dice_list = []\n",
    "    for this_item in range(outputs.size(0)):\n",
    "        output = outputs[this_item]\n",
    "        mask = masks[this_item]\n",
    "        dice_item_thres_list = []\n",
    "        for thres in [0.1, 0.3, 0.5, 0.7, 0.9]:\n",
    "            dice_item_thres = get_dice_threshold(output, mask, thres)\n",
    "            dice_item_thres_list.append(dice_item_thres.data)\n",
    "        dice_item_thres_mean = np.mean(dice_item_thres_list)\n",
    "        dice_list.append(dice_item_thres_mean)\n",
    "\n",
    "    return np.mean(dice_list)\n"
   ]
  },
  {
   "cell_type": "code",
   "execution_count": 51,
   "metadata": {},
   "outputs": [],
   "source": [
    "from tqdm.notebook import tqdm"
   ]
  },
  {
   "cell_type": "code",
   "execution_count": 61,
   "metadata": {},
   "outputs": [],
   "source": [
    "train_loader = DataLoader(valid_set, batch_size=1, shuffle=True, num_workers=4, pin_memory=True)"
   ]
  },
  {
   "cell_type": "code",
   "execution_count": 62,
   "metadata": {},
   "outputs": [],
   "source": [
    "disc_dices = []\n",
    "cup_dices =  []\n",
    "for batch_data in train_loader:\n",
    "    imgs, masks, file_names = batch_data\n",
    "    \n",
    "    patient_disc_dices = []\n",
    "    patient_cup_dices =  []\n",
    "    for expert_i in range(len(masks)):\n",
    "        for expert_j in range(expert_i+1, len(masks)):\n",
    "            patient_disc_dices.append(\n",
    "                get_soft_dice(masks[expert_i][:, 0, :, :], masks[expert_j][:, 0, :, :])\n",
    "            )\n",
    "            patient_cup_dices.append(\n",
    "                get_soft_dice(masks[expert_i][:, 1, :, :], masks[expert_j][:, 1, :, :])\n",
    "            )\n",
    "    \n",
    "    disc_dices.append(np.mean(patient_disc_dices))\n",
    "    cup_dices.append(np.mean(patient_cup_dices))"
   ]
  },
  {
   "cell_type": "code",
   "execution_count": 50,
   "metadata": {},
   "outputs": [
    {
     "data": {
      "text/plain": [
       "524"
      ]
     },
     "execution_count": 50,
     "metadata": {},
     "output_type": "execute_result"
    }
   ],
   "source": [
    "len(train_loader)"
   ]
  },
  {
   "cell_type": "markdown",
   "metadata": {},
   "source": [
    "### Train"
   ]
  },
  {
   "cell_type": "code",
   "execution_count": 55,
   "metadata": {},
   "outputs": [
    {
     "data": {
      "text/plain": [
       "0.9570894409706318"
      ]
     },
     "execution_count": 55,
     "metadata": {},
     "output_type": "execute_result"
    }
   ],
   "source": [
    "np.mean(disc_dices)"
   ]
  },
  {
   "cell_type": "code",
   "execution_count": 56,
   "metadata": {},
   "outputs": [
    {
     "data": {
      "text/plain": [
       "0.8028233087855987"
      ]
     },
     "execution_count": 56,
     "metadata": {},
     "output_type": "execute_result"
    }
   ],
   "source": [
    "np.mean(cup_dices)"
   ]
  },
  {
   "cell_type": "markdown",
   "metadata": {},
   "source": [
    "### Valid Set"
   ]
  },
  {
   "cell_type": "code",
   "execution_count": 64,
   "metadata": {},
   "outputs": [
    {
     "data": {
      "text/plain": [
       "0.9544239015240016"
      ]
     },
     "execution_count": 64,
     "metadata": {},
     "output_type": "execute_result"
    }
   ],
   "source": [
    "np.mean(disc_dices)"
   ]
  },
  {
   "cell_type": "code",
   "execution_count": 65,
   "metadata": {},
   "outputs": [
    {
     "data": {
      "text/plain": [
       "0.7897554742991928"
      ]
     },
     "execution_count": 65,
     "metadata": {},
     "output_type": "execute_result"
    }
   ],
   "source": [
    "np.mean(cup_dices)"
   ]
  },
  {
   "cell_type": "markdown",
   "metadata": {},
   "source": [
    "### Test"
   ]
  },
  {
   "cell_type": "code",
   "execution_count": 59,
   "metadata": {},
   "outputs": [
    {
     "data": {
      "text/plain": [
       "0.9566070548498949"
      ]
     },
     "execution_count": 59,
     "metadata": {},
     "output_type": "execute_result"
    }
   ],
   "source": [
    "np.mean(disc_dices)"
   ]
  },
  {
   "cell_type": "code",
   "execution_count": 60,
   "metadata": {},
   "outputs": [
    {
     "data": {
      "text/plain": [
       "0.7960036175563726"
      ]
     },
     "execution_count": 60,
     "metadata": {},
     "output_type": "execute_result"
    }
   ],
   "source": [
    "np.mean(cup_dices)"
   ]
  }
 ],
 "metadata": {
  "kernelspec": {
   "display_name": "soup",
   "language": "python",
   "name": "python3"
  },
  "language_info": {
   "codemirror_mode": {
    "name": "ipython",
    "version": 3
   },
   "file_extension": ".py",
   "mimetype": "text/x-python",
   "name": "python",
   "nbconvert_exporter": "python",
   "pygments_lexer": "ipython3",
   "version": "3.8.0"
  }
 },
 "nbformat": 4,
 "nbformat_minor": 2
}
