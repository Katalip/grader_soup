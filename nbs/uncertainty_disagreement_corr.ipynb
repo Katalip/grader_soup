{
 "cells": [
  {
   "cell_type": "code",
   "execution_count": 1,
   "metadata": {},
   "outputs": [],
   "source": [
    "import sys\n",
    "sys.path.append('../')\n",
    "import argparse\n",
    "from dataset.get_dataset import getDataset\n",
    "from torch.utils.data import DataLoader\n",
    "from tqdm.notebook import tqdm\n",
    "\n",
    "import matplotlib.pyplot as plt\n",
    "import numpy as np\n",
    "import torch\n",
    "\n",
    "class args_struct:\n",
    "    def __init__(self):\n",
    "        self.dataroot = '../../data/DiscRegion/DiscRegion'\n",
    "        self.rater_num = 6\n",
    "        self.img_width = 256\n",
    "        self.img_height = 256\n",
    "        self.dataset = 'RIGA'\n",
    "        self.validate = True\n",
    "        self.standardize = False\n",
    "        self.random_seed = 27\n",
    "args = args_struct()\n",
    "train_set, valid_set, test_set = getDataset(args, validate=args.validate)\n",
    "train_loader = DataLoader(train_set, batch_size=4, shuffle=True, num_workers=4, pin_memory=True)"
   ]
  },
  {
   "cell_type": "code",
   "execution_count": 2,
   "metadata": {},
   "outputs": [],
   "source": [
    "def get_dice_threshold(output, mask, threshold):\n",
    "    \"\"\"\n",
    "    :param output: output shape per image, float, (0,1)\n",
    "    :param mask: mask shape per image, float, (0,1)\n",
    "    :param threshold: the threshold to binarize output and feature (0,1)\n",
    "    :return: dice of threshold t\n",
    "    \"\"\"\n",
    "    smooth = 1e-6\n",
    "\n",
    "    zero = torch.zeros_like(output)\n",
    "    one = torch.ones_like(output)\n",
    "    output = torch.where(output > threshold, one, zero)\n",
    "    mask = torch.where(mask > threshold, one, zero)\n",
    "    output = output.view(-1)\n",
    "    mask = mask.view(-1)\n",
    "    intersection = (output * mask).sum()\n",
    "    dice = (2. * intersection + smooth) / (output.sum() + mask.sum() + smooth)\n",
    "\n",
    "    return dice\n",
    "def get_soft_dice(outputs, masks):\n",
    "    \"\"\"\n",
    "    :param outputs: B * output shape per image\n",
    "    :param masks: B * mask shape per image\n",
    "    :return: average dice of B items\n",
    "    \"\"\"\n",
    "    dice_list = []\n",
    "    for this_item in range(outputs.size(0)):\n",
    "        output = outputs[this_item]\n",
    "        mask = masks[this_item]\n",
    "        dice_item_thres_list = []\n",
    "        for thres in [0.1, 0.3, 0.5, 0.7, 0.9]:\n",
    "            dice_item_thres = get_dice_threshold(output, mask, thres)\n",
    "            dice_item_thres_list.append(dice_item_thres.data)\n",
    "        dice_item_thres_mean = np.mean(dice_item_thres_list)\n",
    "        dice_list.append(dice_item_thres_mean)\n",
    "\n",
    "    return np.mean(dice_list)"
   ]
  },
  {
   "cell_type": "code",
   "execution_count": 3,
   "metadata": {},
   "outputs": [],
   "source": [
    "train_loader = DataLoader(test_set, batch_size=1, shuffle=True, num_workers=4, pin_memory=True)\n",
    "disc_dices = []\n",
    "cup_dices =  []\n",
    "for batch_data in train_loader:\n",
    "    imgs, masks, file_names = batch_data['image'], batch_data['mask'], batch_data['name']\n",
    "    \n",
    "    patient_disc_dices = []\n",
    "    patient_cup_dices =  []\n",
    "    for expert_i in range(len(masks)):\n",
    "        for expert_j in range(expert_i+1, len(masks)):\n",
    "            patient_disc_dices.append(\n",
    "                get_soft_dice(masks[expert_i][:, 0, :, :], masks[expert_j][:, 0, :, :])\n",
    "            )\n",
    "            patient_cup_dices.append(\n",
    "                get_soft_dice(masks[expert_i][:, 1, :, :], masks[expert_j][:, 1, :, :])\n",
    "            )\n",
    "    \n",
    "    disc_dices.append(np.mean(patient_disc_dices))\n",
    "    cup_dices.append(np.mean(patient_cup_dices))"
   ]
  },
  {
   "cell_type": "code",
   "execution_count": 4,
   "metadata": {},
   "outputs": [
    {
     "data": {
      "text/plain": [
       "95"
      ]
     },
     "execution_count": 4,
     "metadata": {},
     "output_type": "execute_result"
    }
   ],
   "source": [
    "len(disc_dices)"
   ]
  },
  {
   "cell_type": "code",
   "execution_count": 5,
   "metadata": {},
   "outputs": [
    {
     "data": {
      "text/plain": [
       "95"
      ]
     },
     "execution_count": 5,
     "metadata": {},
     "output_type": "execute_result"
    }
   ],
   "source": [
    "len(cup_dices)"
   ]
  },
  {
   "cell_type": "code",
   "execution_count": 6,
   "metadata": {},
   "outputs": [
    {
     "data": {
      "text/plain": [
       "0.40855427674278527"
      ]
     },
     "execution_count": 6,
     "metadata": {},
     "output_type": "execute_result"
    }
   ],
   "source": [
    "np.min(cup_dices)"
   ]
  },
  {
   "cell_type": "markdown",
   "metadata": {},
   "source": [
    "#### Get model preds"
   ]
  },
  {
   "cell_type": "code",
   "execution_count": 7,
   "metadata": {},
   "outputs": [],
   "source": [
    "from models.unet_le import UNetLE"
   ]
  },
  {
   "cell_type": "code",
   "execution_count": 8,
   "metadata": {},
   "outputs": [],
   "source": [
    "class args_struct:\n",
    "    def __init__(self):\n",
    "        self.dataroot = '../../data/DiscRegion/DiscRegion'\n",
    "        self.rater_num = 6\n",
    "        self.img_width = 256\n",
    "        self.img_height = 256\n",
    "        self.dataset = 'RIGA'\n",
    "        self.validate = True\n",
    "        self.standardize = True\n",
    "        self.random_seed = 27\n",
    "        self.loss_func = 'bce'\n",
    "        self.batch_size = 1\n",
    "        self.gt_type_train = -1\n",
    "        self.num_worker = 4"
   ]
  },
  {
   "cell_type": "code",
   "execution_count": 9,
   "metadata": {},
   "outputs": [],
   "source": [
    "args = args_struct()\n",
    "\n",
    "args.gt_type_train = -1\n",
    "args.loss_func = 'bce' \n",
    "args.batch_size = 1\n",
    "args.num_worker = 4\n",
    "args.use_mix_label = False\n",
    "args.standardize = True"
   ]
  },
  {
   "cell_type": "code",
   "execution_count": 10,
   "metadata": {},
   "outputs": [],
   "source": [
    "from trainer.train_riga_unet_le import validate_riga_le\n",
    "from loss_func.get_loss import get_loss_func\n",
    "\n",
    "loss_func = get_loss_func(args)\n",
    "\n",
    "from models.unet_le import UNetLE\n",
    "model = UNetLE()"
   ]
  },
  {
   "cell_type": "code",
   "execution_count": 11,
   "metadata": {},
   "outputs": [],
   "source": [
    "args = args_struct()\n",
    "train_set, valid_set, test_set = getDataset(args, validate=args.validate)"
   ]
  },
  {
   "cell_type": "code",
   "execution_count": 69,
   "metadata": {},
   "outputs": [
    {
     "data": {
      "text/plain": [
       "<All keys matched successfully>"
      ]
     },
     "execution_count": 69,
     "metadata": {},
     "output_type": "execute_result"
    }
   ],
   "source": [
    "model = UNetLE()\n",
    "\n",
    "path = '/media/kudaibergen/TS512/projects_ts/grader_soup/src/outputs/RIGA_gt_annots_train_majority_vote_UnetLE_bce_pretrain0_validateTrue/bs16_lr5e-05_wd0.0_epoch200/loop0/checkpoints/best_loss.pt'\n",
    "model.load_state_dict(torch.load(path)['model'])"
   ]
  },
  {
   "cell_type": "code",
   "execution_count": 52,
   "metadata": {},
   "outputs": [
    {
     "name": "stderr",
     "output_type": "stream",
     "text": [
      "  0%|          | 0/131 [00:00<?, ?it/s]"
     ]
    },
    {
     "name": "stderr",
     "output_type": "stream",
     "text": [
      "100%|██████████| 131/131 [00:03<00:00, 33.84it/s]\n"
     ]
    },
    {
     "data": {
      "text/plain": [
       "(0.11717555682057061, 0.965246302480916, 0.822940273139313)"
      ]
     },
     "execution_count": 52,
     "metadata": {},
     "output_type": "execute_result"
    }
   ],
   "source": [
    "validate_riga_le(args, model, valid_set, loss_func, skip_idx=6)"
   ]
  },
  {
   "cell_type": "code",
   "execution_count": 53,
   "metadata": {},
   "outputs": [],
   "source": [
    "def get_model_outputs(args, model, val_set, loss_function, skip_idx=None):\n",
    "    model = model.cuda()\n",
    "    val_loader = DataLoader(val_set, batch_size=args.batch_size, shuffle=False, num_workers=args.num_worker, pin_memory=True)\n",
    "\n",
    "    model.eval()\n",
    "\n",
    "    outputs_model = []\n",
    "    masks = []\n",
    "    for step, data in enumerate(val_loader):\n",
    "        with torch.no_grad():\n",
    "            imgs = data['image'].cuda()\n",
    "            mask = data['mask']\n",
    "\n",
    "            outputs = model({'image': imgs})\n",
    "\n",
    "            outputs_sigmoid = []\n",
    "            if skip_idx is not None:\n",
    "                outputs = outputs[skip_idx:]\n",
    "\n",
    "            for i, out in enumerate(outputs):\n",
    "                out = torch.nn.functional.interpolate(out, size=mask[0].shape[2:])\n",
    "                outputs_sigmoid.append(torch.sigmoid(out))\n",
    "\n",
    "        outputs_model.append(outputs_sigmoid)\n",
    "        masks.append(mask)\n",
    "    return outputs_model, masks"
   ]
  },
  {
   "cell_type": "code",
   "execution_count": 70,
   "metadata": {},
   "outputs": [],
   "source": [
    "model_outputs, masks = get_model_outputs(args, model, test_set, loss_func, skip_idx=3)"
   ]
  },
  {
   "cell_type": "code",
   "execution_count": 16,
   "metadata": {},
   "outputs": [
    {
     "data": {
      "text/plain": [
       "95"
      ]
     },
     "execution_count": 16,
     "metadata": {},
     "output_type": "execute_result"
    }
   ],
   "source": [
    "len(model_outputs)"
   ]
  },
  {
   "cell_type": "code",
   "execution_count": 17,
   "metadata": {},
   "outputs": [],
   "source": [
    "cup_idx = 1\n",
    "disc_idx = 0"
   ]
  },
  {
   "cell_type": "code",
   "execution_count": 18,
   "metadata": {},
   "outputs": [
    {
     "data": {
      "text/plain": [
       "torch.Size([4, 1, 2, 256, 256])"
      ]
     },
     "execution_count": 18,
     "metadata": {},
     "output_type": "execute_result"
    }
   ],
   "source": [
    "torch.stack(model_outputs[0]).shape"
   ]
  },
  {
   "cell_type": "code",
   "execution_count": 19,
   "metadata": {},
   "outputs": [
    {
     "data": {
      "text/plain": [
       "torch.Size([4, 1, 256, 256])"
      ]
     },
     "execution_count": 19,
     "metadata": {},
     "output_type": "execute_result"
    }
   ],
   "source": [
    "torch.stack(model_outputs[0])[:, :, cup_idx, :, :].shape"
   ]
  },
  {
   "cell_type": "code",
   "execution_count": 72,
   "metadata": {},
   "outputs": [],
   "source": [
    "outputs_variance_cup = [torch.stack(out)[:, :, cup_idx, :, :].var(dim=0).sum().cpu().item() for out in model_outputs]\n",
    "outputs_variance_disc = [torch.stack(out)[:, :, disc_idx, :, :].var(dim=0).sum().cpu().item() for out in model_outputs]"
   ]
  },
  {
   "cell_type": "code",
   "execution_count": 21,
   "metadata": {},
   "outputs": [
    {
     "data": {
      "text/plain": [
       "95"
      ]
     },
     "execution_count": 21,
     "metadata": {},
     "output_type": "execute_result"
    }
   ],
   "source": [
    "len(model_outputs)"
   ]
  },
  {
   "cell_type": "code",
   "execution_count": 22,
   "metadata": {},
   "outputs": [
    {
     "data": {
      "text/plain": [
       "95"
      ]
     },
     "execution_count": 22,
     "metadata": {},
     "output_type": "execute_result"
    }
   ],
   "source": [
    "len(masks)"
   ]
  },
  {
   "cell_type": "code",
   "execution_count": 23,
   "metadata": {},
   "outputs": [
    {
     "data": {
      "text/plain": [
       "tensor([0., -0., 0., -0., 0., -0.])"
      ]
     },
     "execution_count": 23,
     "metadata": {},
     "output_type": "execute_result"
    }
   ],
   "source": [
    "torch.special.entr(torch.tensor([0, 1, 0, 1, 0, 1]))"
   ]
  },
  {
   "cell_type": "code",
   "execution_count": 24,
   "metadata": {},
   "outputs": [
    {
     "data": {
      "text/plain": [
       "0.25"
      ]
     },
     "execution_count": 24,
     "metadata": {},
     "output_type": "execute_result"
    }
   ],
   "source": [
    "np.var([0, 1, 0, 1, 0, 1])"
   ]
  },
  {
   "cell_type": "code",
   "execution_count": 31,
   "metadata": {},
   "outputs": [],
   "source": [
    "class RMSELoss(torch.nn.Module):\n",
    "    def __init__(self):\n",
    "        super().__init__()\n",
    "        self.mse = torch.nn.MSELoss()\n",
    "        \n",
    "    def forward(self,yhat,y):\n",
    "        return torch.sqrt(self.mse(yhat,y))"
   ]
  },
  {
   "cell_type": "code",
   "execution_count": 34,
   "metadata": {},
   "outputs": [],
   "source": [
    "rmse_loss = RMSELoss()"
   ]
  },
  {
   "cell_type": "code",
   "execution_count": 35,
   "metadata": {},
   "outputs": [],
   "source": [
    "var_loss = rmse_loss(torch.stack(variance_heatmap).cuda(), torch.stack(variance_heatmap_output))"
   ]
  },
  {
   "cell_type": "code",
   "execution_count": 50,
   "metadata": {},
   "outputs": [
    {
     "data": {
      "text/plain": [
       "tensor(2.1391, device='cuda:0', dtype=torch.float64)"
      ]
     },
     "execution_count": 50,
     "metadata": {},
     "output_type": "execute_result"
    }
   ],
   "source": [
    "torch.log(torch.stack(variance_heatmap).cuda().sum() / torch.stack(variance_heatmap_output).sum())"
   ]
  },
  {
   "cell_type": "code",
   "execution_count": 36,
   "metadata": {},
   "outputs": [
    {
     "data": {
      "text/plain": [
       "tensor(0.0425, device='cuda:0', dtype=torch.float64)"
      ]
     },
     "execution_count": 36,
     "metadata": {},
     "output_type": "execute_result"
    }
   ],
   "source": [
    "var_loss"
   ]
  },
  {
   "cell_type": "code",
   "execution_count": 61,
   "metadata": {},
   "outputs": [
    {
     "data": {
      "text/plain": [
       "0.8754687373538999"
      ]
     },
     "execution_count": 61,
     "metadata": {},
     "output_type": "execute_result"
    }
   ],
   "source": [
    "np.log(0.6/0.25)"
   ]
  },
  {
   "cell_type": "code",
   "execution_count": 28,
   "metadata": {},
   "outputs": [],
   "source": [
    "variance_heatmap = [torch.stack(mask).var(dim=0) for mask in masks]\n",
    "variance_heatmap_output = [torch.stack(out).var(dim=0) for out in model_outputs]"
   ]
  },
  {
   "cell_type": "code",
   "execution_count": 45,
   "metadata": {},
   "outputs": [
    {
     "data": {
      "text/plain": [
       "(tensor(0.0087, dtype=torch.float64),\n",
       " tensor(0., dtype=torch.float64),\n",
       " tensor(0.3000, dtype=torch.float64),\n",
       " tensor(0.2667, dtype=torch.float64))"
      ]
     },
     "execution_count": 45,
     "metadata": {},
     "output_type": "execute_result"
    }
   ],
   "source": [
    "torch.stack(variance_heatmap).mean(), \\\n",
    "torch.stack(variance_heatmap).min(), \\\n",
    "torch.stack(variance_heatmap).max(), \\\n",
    "torch.stack(variance_heatmap).quantile(0.99)"
   ]
  },
  {
   "cell_type": "code",
   "execution_count": 47,
   "metadata": {},
   "outputs": [
    {
     "data": {
      "text/plain": [
       "(tensor(0.0028, device='cuda:0'),\n",
       " tensor(1.0842e-06, device='cuda:0'),\n",
       " tensor(0.1943, device='cuda:0'),\n",
       " tensor(0.0632, device='cuda:0'))"
      ]
     },
     "execution_count": 47,
     "metadata": {},
     "output_type": "execute_result"
    }
   ],
   "source": [
    "torch.stack(variance_heatmap_output).mean(), \\\n",
    "torch.stack(variance_heatmap_output).min(), \\\n",
    "torch.stack(variance_heatmap_output).max(), \\\n",
    "torch.stack(variance_heatmap_output).quantile(0.99)"
   ]
  },
  {
   "cell_type": "code",
   "execution_count": 56,
   "metadata": {},
   "outputs": [],
   "source": [
    "mask_variance_cup = [torch.stack(out)[:, :, cup_idx, :, :].var(dim=0).sum().cpu().item() for out in masks]\n",
    "mak_variance_disc = [torch.stack(out)[:, :, disc_idx, :, :].var(dim=0).sum().cpu().item() for out in masks]"
   ]
  },
  {
   "cell_type": "code",
   "execution_count": 25,
   "metadata": {},
   "outputs": [
    {
     "data": {
      "text/plain": [
       "95"
      ]
     },
     "execution_count": 25,
     "metadata": {},
     "output_type": "execute_result"
    }
   ],
   "source": [
    "len(mask_variance_cup)"
   ]
  },
  {
   "cell_type": "code",
   "execution_count": 145,
   "metadata": {},
   "outputs": [
    {
     "data": {
      "text/plain": [
       "95"
      ]
     },
     "execution_count": 145,
     "metadata": {},
     "output_type": "execute_result"
    }
   ],
   "source": [
    "len(outputs_variance_disc)"
   ]
  },
  {
   "cell_type": "code",
   "execution_count": 58,
   "metadata": {},
   "outputs": [],
   "source": [
    "from scipy.stats import pearsonr, spearmanr"
   ]
  },
  {
   "cell_type": "markdown",
   "metadata": {},
   "source": [
    "#### with guidance"
   ]
  },
  {
   "cell_type": "code",
   "execution_count": 66,
   "metadata": {},
   "outputs": [
    {
     "data": {
      "text/plain": [
       "(PearsonRResult(statistic=0.12710576297586812, pvalue=0.21965022423649605),\n",
       " PearsonRResult(statistic=-0.10248265343801746, pvalue=0.3230258286383106),\n",
       " PearsonRResult(statistic=0.6429801673343135, pvalue=2.1338567100915737e-12),\n",
       " PearsonRResult(statistic=0.5116813880540386, pvalue=1.1616364209223886e-07))"
      ]
     },
     "execution_count": 66,
     "metadata": {},
     "output_type": "execute_result"
    }
   ],
   "source": [
    "pearsonr(disc_dices, outputs_variance_disc), \\\n",
    "pearsonr(cup_dices, outputs_variance_cup), \\\n",
    "pearsonr(mak_variance_disc, outputs_variance_disc), \\\n",
    "pearsonr(mask_variance_cup, outputs_variance_cup)"
   ]
  },
  {
   "cell_type": "code",
   "execution_count": 67,
   "metadata": {},
   "outputs": [
    {
     "data": {
      "text/plain": [
       "(SignificanceResult(statistic=0.1132558790593505, pvalue=0.2744865574183468),\n",
       " SignificanceResult(statistic=-0.08285274356103024, pvalue=0.42473595088884697),\n",
       " SignificanceResult(statistic=0.6614501679731244, pvalue=2.9542735371651196e-13),\n",
       " SignificanceResult(statistic=0.6062290033594626, pvalue=7.502882295273199e-11))"
      ]
     },
     "execution_count": 67,
     "metadata": {},
     "output_type": "execute_result"
    }
   ],
   "source": [
    "spearmanr(disc_dices, outputs_variance_disc), \\\n",
    "spearmanr(cup_dices, outputs_variance_cup), \\\n",
    "spearmanr(mak_variance_disc, outputs_variance_disc), \\\n",
    "spearmanr(mask_variance_cup, outputs_variance_cup)"
   ]
  },
  {
   "cell_type": "code",
   "execution_count": 68,
   "metadata": {},
   "outputs": [
    {
     "data": {
      "text/plain": [
       "(0.15097908214184405,\n",
       " 0.1588512546898208,\n",
       " 0.6453996866367888,\n",
       " 0.6022539166036952)"
      ]
     },
     "execution_count": 68,
     "metadata": {},
     "output_type": "execute_result"
    }
   ],
   "source": [
    "distance_correlation(disc_dices, outputs_variance_disc), \\\n",
    "distance_correlation(cup_dices, outputs_variance_cup), \\\n",
    "distance_correlation(mak_variance_disc, outputs_variance_disc), \\\n",
    "distance_correlation(mask_variance_cup, outputs_variance_cup)"
   ]
  },
  {
   "cell_type": "markdown",
   "metadata": {},
   "source": [
    "#### Le random sampling"
   ]
  },
  {
   "cell_type": "code",
   "execution_count": 112,
   "metadata": {},
   "outputs": [
    {
     "data": {
      "text/plain": [
       "(PearsonRResult(statistic=-0.04256242367406478, pvalue=0.6821426736243122),\n",
       " PearsonRResult(statistic=-0.059783091772305896, pvalue=0.564956724816376),\n",
       " PearsonRResult(statistic=-0.6404540034898978, pvalue=2.7676260141717426e-12),\n",
       " PearsonRResult(statistic=-0.404845005603768, pvalue=4.714293900089688e-05))"
      ]
     },
     "execution_count": 112,
     "metadata": {},
     "output_type": "execute_result"
    }
   ],
   "source": [
    "pearsonr(disc_dices, outputs_variance_disc), \\\n",
    "pearsonr(cup_dices, outputs_variance_cup), \\\n",
    "pearsonr(mak_variance_disc, outputs_variance_disc), \\\n",
    "pearsonr(mask_variance_cup, outputs_variance_cup)"
   ]
  },
  {
   "cell_type": "code",
   "execution_count": 113,
   "metadata": {},
   "outputs": [
    {
     "data": {
      "text/plain": [
       "(SignificanceResult(statistic=-0.0032894736842105266, pvalue=0.9747611683116165),\n",
       " SignificanceResult(statistic=-0.08978163493840985, pvalue=0.3869028234783466),\n",
       " SignificanceResult(statistic=-0.6617721164613661, pvalue=2.850678439263817e-13),\n",
       " SignificanceResult(statistic=-0.5496080627099664, pvalue=8.012350159482334e-09))"
      ]
     },
     "execution_count": 113,
     "metadata": {},
     "output_type": "execute_result"
    }
   ],
   "source": [
    "spearmanr(disc_dices, outputs_variance_disc), \\\n",
    "spearmanr(cup_dices, outputs_variance_cup), \\\n",
    "spearmanr(mak_variance_disc, outputs_variance_disc), \\\n",
    "spearmanr(mask_variance_cup, outputs_variance_cup)"
   ]
  },
  {
   "cell_type": "code",
   "execution_count": 114,
   "metadata": {},
   "outputs": [
    {
     "data": {
      "text/plain": [
       "(0.15230256283105253,\n",
       " 0.15809771951310525,\n",
       " 0.6351015024855868,\n",
       " 0.537728528410367)"
      ]
     },
     "execution_count": 114,
     "metadata": {},
     "output_type": "execute_result"
    }
   ],
   "source": [
    "distance_correlation(disc_dices, outputs_variance_disc), \\\n",
    "distance_correlation(cup_dices, outputs_variance_cup), \\\n",
    "distance_correlation(mak_variance_disc, outputs_variance_disc), \\\n",
    "distance_correlation(mask_variance_cup, outputs_variance_cup)"
   ]
  },
  {
   "cell_type": "markdown",
   "metadata": {},
   "source": [
    "#### Le\n"
   ]
  },
  {
   "cell_type": "code",
   "execution_count": 73,
   "metadata": {},
   "outputs": [
    {
     "data": {
      "text/plain": [
       "(PearsonRResult(statistic=-0.0757349845759655, pvalue=0.4657265834474203),\n",
       " PearsonRResult(statistic=0.04362535673406012, pvalue=0.6746473975365781),\n",
       " PearsonRResult(statistic=-0.2979858151440561, pvalue=0.0033581728985812155),\n",
       " PearsonRResult(statistic=-0.30131911596991684, pvalue=0.0030042137430275496))"
      ]
     },
     "execution_count": 73,
     "metadata": {},
     "output_type": "execute_result"
    }
   ],
   "source": [
    "pearsonr(disc_dices, outputs_variance_disc), \\\n",
    "pearsonr(cup_dices, outputs_variance_cup), \\\n",
    "pearsonr(mak_variance_disc, outputs_variance_disc), \\\n",
    "pearsonr(mask_variance_cup, outputs_variance_cup)"
   ]
  },
  {
   "cell_type": "code",
   "execution_count": 74,
   "metadata": {},
   "outputs": [
    {
     "data": {
      "text/plain": [
       "(SignificanceResult(statistic=-0.1076427771556551, pvalue=0.2991288803357056),\n",
       " SignificanceResult(statistic=0.07354423292273236, pvalue=0.4787645205080622),\n",
       " SignificanceResult(statistic=-0.3247200447928332, pvalue=0.0013248027020331186),\n",
       " SignificanceResult(statistic=-0.5451287793952968, pvalue=1.1181005575470863e-08))"
      ]
     },
     "execution_count": 74,
     "metadata": {},
     "output_type": "execute_result"
    }
   ],
   "source": [
    "spearmanr(disc_dices, outputs_variance_disc), \\\n",
    "spearmanr(cup_dices, outputs_variance_cup), \\\n",
    "spearmanr(mak_variance_disc, outputs_variance_disc), \\\n",
    "spearmanr(mask_variance_cup, outputs_variance_cup)"
   ]
  },
  {
   "cell_type": "code",
   "execution_count": 62,
   "metadata": {},
   "outputs": [],
   "source": [
    "from statsmodels.stats.dist_dependence_measures import distance_correlation"
   ]
  },
  {
   "cell_type": "code",
   "execution_count": 75,
   "metadata": {},
   "outputs": [
    {
     "data": {
      "text/plain": [
       "(0.18798038685560492,\n",
       " 0.1395311431720164,\n",
       " 0.3438271213071308,\n",
       " 0.48576792321695966)"
      ]
     },
     "execution_count": 75,
     "metadata": {},
     "output_type": "execute_result"
    },
    {
     "ename": "",
     "evalue": "",
     "output_type": "error",
     "traceback": [
      "\u001b[1;31mThe Kernel crashed while executing code in the the current cell or a previous cell. Please review the code in the cell(s) to identify a possible cause of the failure. Click <a href='https://aka.ms/vscodeJupyterKernelCrash'>here</a> for more info. View Jupyter <a href='command:jupyter.viewOutput'>log</a> for further details."
     ]
    }
   ],
   "source": [
    "distance_correlation(disc_dices, outputs_variance_disc), \\\n",
    "distance_correlation(cup_dices, outputs_variance_cup), \\\n",
    "distance_correlation(mak_variance_disc, outputs_variance_disc), \\\n",
    "distance_correlation(mask_variance_cup, outputs_variance_cup)"
   ]
  },
  {
   "cell_type": "code",
   "execution_count": 150,
   "metadata": {},
   "outputs": [
    {
     "data": {
      "text/plain": [
       "[<matplotlib.lines.Line2D at 0x7fc68f16a9a0>]"
      ]
     },
     "execution_count": 150,
     "metadata": {},
     "output_type": "execute_result"
    },
    {
     "data": {
      "image/png": "[encoded data removed]",
      "text/plain": [
       "<Figure size 640x480 with 1 Axes>"
      ]
     },
     "metadata": {},
     "output_type": "display_data"
    }
   ],
   "source": [
    "plt.plot(cup_dices)"
   ]
  },
  {
   "cell_type": "code",
   "execution_count": 151,
   "metadata": {},
   "outputs": [
    {
     "data": {
      "text/plain": [
       "[<matplotlib.lines.Line2D at 0x7fc695dd1280>]"
      ]
     },
     "execution_count": 151,
     "metadata": {},
     "output_type": "execute_result"
    },
    {
     "data": {
      "image/png": "[encoded data removed]",
      "text/plain": [
       "<Figure size 640x480 with 1 Axes>"
      ]
     },
     "metadata": {},
     "output_type": "display_data"
    }
   ],
   "source": [
    "plt.plot(outputs_variance_cup)"
   ]
  },
  {
   "cell_type": "markdown",
   "metadata": {},
   "source": [
    "#### compare with deep ensembles"
   ]
  },
  {
   "cell_type": "code",
   "execution_count": 33,
   "metadata": {},
   "outputs": [],
   "source": [
    "checkpoints = [\n",
    "    f'/home/kudaibergen/projects/grader_soup/outputs/RIGA_gt_annots_train_majority_vote_UnetDE_bce_pretrain0_validateTrue/bs16_lr5e-05_wd0.0_epoch200/loop{i}/checkpoints/best_loss.pt'\n",
    "    for i in range(2, 8)\n",
    "    ]"
   ]
  },
  {
   "cell_type": "code",
   "execution_count": 34,
   "metadata": {},
   "outputs": [],
   "source": [
    "from models.unet import UNet"
   ]
  },
  {
   "cell_type": "code",
   "execution_count": 68,
   "metadata": {},
   "outputs": [],
   "source": [
    "models = []\n",
    "for chk in checkpoints:\n",
    "    model = UNet()\n",
    "    model.load_state_dict(torch.load(chk)['model'])\n",
    "    model.eval()\n",
    "    model.cuda()\n",
    "    models.append(model)"
   ]
  },
  {
   "cell_type": "code",
   "execution_count": 88,
   "metadata": {},
   "outputs": [],
   "source": [
    "val_loader = DataLoader(test_set, batch_size=args.batch_size, shuffle=False, num_workers=args.num_worker, pin_memory=True)\n",
    "\n",
    "outputs_model = []\n",
    "for step, data in enumerate(val_loader):\n",
    "    with torch.no_grad():\n",
    "        imgs = data['image'].cuda()\n",
    "        mask = data['mask']\n",
    "\n",
    "        per_model_outputs = []\n",
    "        for model in models:\n",
    "            outputs = model({'image': imgs})\n",
    "            outputs = torch.sigmoid(outputs['raw'])\n",
    "            per_model_outputs.append(outputs)\n",
    "\n",
    "        outputs_model.append(per_model_outputs)"
   ]
  },
  {
   "cell_type": "code",
   "execution_count": 89,
   "metadata": {},
   "outputs": [],
   "source": [
    "outputs_variance_cup = [torch.stack(out)[:, :, cup_idx, :, :].var(dim=0).sum().cpu().item() for out in outputs_model]\n",
    "outputs_variance_disc = [torch.stack(out)[:, :, disc_idx, :, :].var(dim=0).sum().cpu().item() for out in outputs_model]"
   ]
  },
  {
   "cell_type": "code",
   "execution_count": 38,
   "metadata": {},
   "outputs": [
    {
     "data": {
      "text/plain": [
       "95"
      ]
     },
     "execution_count": 38,
     "metadata": {},
     "output_type": "execute_result"
    }
   ],
   "source": [
    "len(outputs_variance_cup)"
   ]
  },
  {
   "cell_type": "code",
   "execution_count": 71,
   "metadata": {},
   "outputs": [
    {
     "data": {
      "text/plain": [
       "(PearsonRResult(statistic=0.007808024585446924, pvalue=0.9401376382040015),\n",
       " PearsonRResult(statistic=0.13238158794289617, pvalue=0.20094933500470727),\n",
       " PearsonRResult(statistic=0.33620687057197585, pvalue=0.000865085161279506),\n",
       " PearsonRResult(statistic=0.41210534757331957, pvalue=3.332062739050576e-05))"
      ]
     },
     "execution_count": 71,
     "metadata": {},
     "output_type": "execute_result"
    }
   ],
   "source": [
    "pearsonr(disc_dices, outputs_variance_disc), \\\n",
    "pearsonr(cup_dices, outputs_variance_cup), \\\n",
    "pearsonr(mak_variance_disc, outputs_variance_disc), \\\n",
    "pearsonr(mask_variance_cup, outputs_variance_cup)"
   ]
  },
  {
   "cell_type": "code",
   "execution_count": 70,
   "metadata": {},
   "outputs": [
    {
     "data": {
      "text/plain": [
       "(SignificanceResult(statistic=-0.08332866741321389, pvalue=0.42207123315036565),\n",
       " SignificanceResult(statistic=0.11444568868980963, pvalue=0.26944362467864685),\n",
       " SignificanceResult(statistic=0.4728723404255319, pvalue=1.30585103498037e-06),\n",
       " SignificanceResult(statistic=0.349426091825308, pvalue=0.0005189462989888927))"
      ]
     },
     "execution_count": 70,
     "metadata": {},
     "output_type": "execute_result"
    }
   ],
   "source": [
    "spearmanr(disc_dices, outputs_variance_disc), \\\n",
    "spearmanr(cup_dices, outputs_variance_cup), \\\n",
    "spearmanr(mak_variance_disc, outputs_variance_disc), \\\n",
    "spearmanr(mask_variance_cup, outputs_variance_cup)"
   ]
  },
  {
   "cell_type": "code",
   "execution_count": 90,
   "metadata": {},
   "outputs": [
    {
     "data": {
      "text/plain": [
       "(0.188117568070703, 0.1729388158702675, 0.4440356044219752, 0.3995507343316547)"
      ]
     },
     "execution_count": 90,
     "metadata": {},
     "output_type": "execute_result"
    }
   ],
   "source": [
    "distance_correlation(disc_dices, outputs_variance_disc), \\\n",
    "distance_correlation(cup_dices, outputs_variance_cup), \\\n",
    "distance_correlation(mak_variance_disc, outputs_variance_disc), \\\n",
    "distance_correlation(mask_variance_cup, outputs_variance_cup)"
   ]
  }
 ],
 "metadata": {
  "kernelspec": {
   "display_name": "soup",
   "language": "python",
   "name": "python3"
  },
  "language_info": {
   "codemirror_mode": {
    "name": "ipython",
    "version": 3
   },
   "file_extension": ".py",
   "mimetype": "text/x-python",
   "name": "python",
   "nbconvert_exporter": "python",
   "pygments_lexer": "ipython3",
   "version": "3.8.18"
  }
 },
 "nbformat": 4,
 "nbformat_minor": 2
}
